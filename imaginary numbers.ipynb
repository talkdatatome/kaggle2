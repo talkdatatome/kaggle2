{
 "cells": [
  {
   "cell_type": "code",
   "execution_count": 1,
   "metadata": {
    "collapsed": false
   },
   "outputs": [
    {
     "name": "stdout",
     "output_type": "stream",
     "text": [
      "5 + 2i\n",
      "0 + 1i\n",
      "5 + 3i\n",
      "-3 + -3i\n"
     ]
    }
   ],
   "source": [
    "class imag:\n",
    "    \"\"\"I'm a class for imaginary numbers.\"\"\"\n",
    "    def __init__(self, real, imaginary):\n",
    "        self.real = real\n",
    "        self.imaginary = imaginary\n",
    "            \n",
    "    def __add__(self, imag):\n",
    "        self.real = self.real + imag.real\n",
    "        self.imaginary = self.imaginary + imag.imaginary\n",
    "        return(self)\n",
    "        \n",
    "    def __mul__(self, imag):\n",
    "        self.real = self.real*imag.real - self.imaginary*imag.imaginary\n",
    "        self.imaginary = self.real*imag.imaginary + self.imaginary*imag.real\n",
    "        return(self)\n",
    "    \n",
    "#    def __mul__(self, int):\n",
    "#        self.real = self.real*int\n",
    "#        self.imaginary = self.imaginary*int\n",
    "#        return(self)\n",
    "                \n",
    "    def __repr__(self):\n",
    "        return str(self.real) + \" + \" + str(self.imaginary) + \"i\"\n",
    "        \n",
    "x = imag(5,2)\n",
    "y = imag(0,1)\n",
    "print(x)\n",
    "print(y)\n",
    "print(x + y)\n",
    "print(x*y)"
   ]
  }
 ],
 "metadata": {
  "kernelspec": {
   "display_name": "Python 3",
   "language": "python",
   "name": "python3"
  },
  "language_info": {
   "codemirror_mode": {
    "name": "ipython",
    "version": 3
   },
   "file_extension": ".py",
   "mimetype": "text/x-python",
   "name": "python",
   "nbconvert_exporter": "python",
   "pygments_lexer": "ipython3",
   "version": "3.5.1"
  }
 },
 "nbformat": 4,
 "nbformat_minor": 0
}
